{
 "cells": [
  {
   "cell_type": "code",
   "execution_count": 2,
   "metadata": {},
   "outputs": [],
   "source": [
    "import numpy as np\n",
    "import pandas as pd\n",
    "import sklearn\n",
    "import os\n",
    "import matplotlib.pyplot as plt\n",
    "import math"
   ]
  },
  {
   "cell_type": "code",
   "execution_count": 3,
   "metadata": {},
   "outputs": [],
   "source": [
    "#path of the data folder\n",
    "path=os.getcwd()+\"/data\""
   ]
  },
  {
   "cell_type": "code",
   "execution_count": 4,
   "metadata": {},
   "outputs": [],
   "source": [
    "#Root mean squared error\n",
    "def rmse(pred, y):\n",
    "    er=pred-y\n",
    "    er=np.square(er)\n",
    "    err=np.mean(er)\n",
    "    err=math.sqrt(err)\n",
    "    return err"
   ]
  },
  {
   "cell_type": "code",
   "execution_count": 5,
   "metadata": {},
   "outputs": [],
   "source": [
    "#Reading Data\n",
    "train_data=pd.read_csv(path+\"/training.csv\")"
   ]
  },
  {
   "cell_type": "code",
   "execution_count": 12,
   "metadata": {},
   "outputs": [],
   "source": [
    "#Dividing data into X_train and Target variables\n",
    "X_train=train_data.iloc[:, :3595]\n",
    "ca_train=train_data.iloc[:, 3595]\n",
    "p_train=train_data.iloc[:, 3596]\n",
    "ph_train=train_data.iloc[:, 3597]\n",
    "soc_train=train_data.iloc[:, 3598]\n",
    "sand_train=train_data.iloc[:, 3599]"
   ]
  },
  {
   "cell_type": "code",
   "execution_count": 13,
   "metadata": {},
   "outputs": [],
   "source": [
    "#Dropping unncessary coloumns and OneHot Encoding\n",
    "X_train=X_train.drop(\"PIDN\", axis=1)\n",
    "X_train=X_train.drop(X_train.loc[:, 'm2379.76':'m2352.76'].columns, axis=1)\n",
    "X_train=pd.get_dummies(X_train, prefix=['Depth'])"
   ]
  },
  {
   "cell_type": "code",
   "execution_count": 14,
   "metadata": {},
   "outputs": [],
   "source": [
    "#Dropping features with less variance\n",
    "thresh=0.1414\n",
    "X_train=X_train.loc[:, X_train.std()>thresh]"
   ]
  },
  {
   "cell_type": "code",
   "execution_count": 15,
   "metadata": {},
   "outputs": [],
   "source": [
    "#Converting to numpy arrays\n",
    "X_train=X_train.to_numpy()\n",
    "ca_train=ca_train.to_numpy()\n",
    "p_train=p_train.to_numpy()\n",
    "ph_train=ph_train.to_numpy()\n",
    "soc_train=soc_train.to_numpy()\n",
    "sand_train=sand_train.to_numpy()"
   ]
  },
  {
   "cell_type": "code",
   "execution_count": 24,
   "metadata": {},
   "outputs": [],
   "source": [
    "#Defining models\n",
    "from sklearn.svm import SVR\n",
    "\n",
    "soc_reg=SVR(C=800.0, kernel='linear', verbose=True)\n",
    "ph_reg=SVR(C=1000.0, kernel='linear', verbose=True)\n",
    "ca_reg=SVR(C=1000.0, kernel='linear', verbose=True)\n",
    "p_reg=SVR(C=1000.0, kernel='linear', verbose=True)\n",
    "sand_reg=SVR(C=800.0, kernel='linear', verbose=True)"
   ]
  },
  {
   "cell_type": "code",
   "execution_count": 21,
   "metadata": {},
   "outputs": [
    {
     "name": "stdout",
     "output_type": "stream",
     "text": [
      "[LibSVM][LibSVM][LibSVM][LibSVM][LibSVM]train_error= 1.879739867897643 and validation_error= 2.967473907787487\n"
     ]
    }
   ],
   "source": [
    "#Training the models\n",
    "train_index=926\n",
    "\n",
    "x_Train, x_Test=X_train[0:train_index, :], X_train[train_index:, :]\n",
    "ca_Train, ca_Test=ca_train[0:train_index], ca_train[train_index:]\n",
    "p_Train, p_Test=p_train[0:train_index], p_train[train_index:]\n",
    "ph_Train, ph_Test=ph_train[0:train_index], ph_train[train_index:]\n",
    "soc_Train, soc_Test=soc_train[0:train_index], soc_train[train_index:]\n",
    "sand_Train, sand_Test=sand_train[0:train_index], sand_train[train_index:]\n",
    "\n",
    "val_er=np.zeros(5)\n",
    "train_er=np.zeros(5)\n",
    "\n",
    "ca_reg.fit(x_Train, ca_Train)\n",
    "val_pred=ca_reg.predict(x_Test)\n",
    "train_pred=ca_reg.predict(x_Train)\n",
    "train_er[0]=rmse(train_pred, ca_Train)\n",
    "val_er[0]=rmse(val_pred, ca_Test)\n",
    "\n",
    "p_reg.fit(x_Train, p_Train)\n",
    "val_pred=p_reg.predict(x_Test)\n",
    "train_pred=p_reg.predict(x_Train)\n",
    "train_er[1]=rmse(train_pred, p_Train)\n",
    "val_er[1]=rmse(val_pred, p_Test)\n",
    "\n",
    "ph_reg.fit(x_Train, ph_Train)\n",
    "val_pred=ph_reg.predict(x_Test)\n",
    "train_pred=ph_reg.predict(x_Train)\n",
    "train_er[2]=rmse(train_pred, ph_Train)\n",
    "val_er[2]=rmse(val_pred, ph_Test)\n",
    "\n",
    "soc_reg.fit(x_Train, ca_Train)\n",
    "val_pred=soc_reg.predict(x_Test)\n",
    "train_pred=soc_reg.predict(x_Train)\n",
    "train_er[3]=rmse(train_pred, soc_Train)\n",
    "val_er[3]=rmse(val_pred, soc_Test)\n",
    "\n",
    "sand_reg.fit(x_Train, sand_Train)\n",
    "val_pred=sand_reg.predict(x_Test)\n",
    "train_pred=sand_reg.predict(x_Train)\n",
    "train_er[4]=rmse(train_pred, sand_Train)\n",
    "val_er[4]=rmse(val_pred, sand_Test)    \n",
    "\n",
    "train_err=np.mean(train_er)\n",
    "val_err=np.mean(val_er)\n",
    "print('train_error=', train_err, 'and validation_error=', val_err)"
   ]
  },
  {
   "cell_type": "code",
   "execution_count": 26,
   "metadata": {},
   "outputs": [
    {
     "name": "stdout",
     "output_type": "stream",
     "text": [
      "[0.96094029 1.30280003 1.02044956 1.45613497 0.72780052]\n"
     ]
    }
   ],
   "source": [
    "#Printing test error\n",
    "print(train_er)"
   ]
  },
  {
   "cell_type": "code",
   "execution_count": 27,
   "metadata": {},
   "outputs": [
    {
     "name": "stdout",
     "output_type": "stream",
     "text": [
      "[1.68026308 2.54179074 1.37763357 1.3436247  1.47174656]\n"
     ]
    }
   ],
   "source": [
    "#Printing validation error\n",
    "print(val_er)"
   ]
  },
  {
   "cell_type": "code",
   "execution_count": null,
   "metadata": {},
   "outputs": [],
   "source": []
  }
 ],
 "metadata": {
  "kernelspec": {
   "display_name": "Python 3",
   "language": "python",
   "name": "python3"
  },
  "language_info": {
   "codemirror_mode": {
    "name": "ipython",
    "version": 3
   },
   "file_extension": ".py",
   "mimetype": "text/x-python",
   "name": "python",
   "nbconvert_exporter": "python",
   "pygments_lexer": "ipython3",
   "version": "3.7.3"
  }
 },
 "nbformat": 4,
 "nbformat_minor": 2
}
